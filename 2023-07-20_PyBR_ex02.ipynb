{
 "cells": [
  {
   "cell_type": "code",
   "execution_count": 1,
   "id": "916288ff",
   "metadata": {},
   "outputs": [
    {
     "name": "stdout",
     "output_type": "stream",
     "text": [
      "Digite uma palavra: cacimba\n"
     ]
    },
    {
     "data": {
      "text/plain": [
       "'CCAAMIB'"
      ]
     },
     "execution_count": 1,
     "metadata": {},
     "output_type": "execute_result"
    }
   ],
   "source": [
    "# Construa uma função que receba uma string como parâmetro e devolva outra string com os carateres embaralhados. \n",
    "# Por exemplo: se função receber a palavra python, pode retornar npthyo, ophtyn ou qualquer outra combinação possível, de forma aleatória. \n",
    "# Padronize em sua função que todos os caracteres serão devolvidos em caixa alta ou caixa baixa, independentemente de como foram digitados.\n",
    "import random\n",
    "\n",
    "def embaralhar(palavra):\n",
    "  letras = list(palavra)\n",
    "  random.shuffle(letras)\n",
    "  nova_palavra = \"\".join(letras)\n",
    "  return nova_palavra\n",
    "  \n",
    "\n",
    "palavra = input(\"Digite uma palavra: \").upper()\n",
    "embaralhar(palavra)"
   ]
  }
 ],
 "metadata": {
  "kernelspec": {
   "display_name": "Python 3 (ipykernel)",
   "language": "python",
   "name": "python3"
  },
  "language_info": {
   "codemirror_mode": {
    "name": "ipython",
    "version": 3
   },
   "file_extension": ".py",
   "mimetype": "text/x-python",
   "name": "python",
   "nbconvert_exporter": "python",
   "pygments_lexer": "ipython3",
   "version": "3.9.13"
  }
 },
 "nbformat": 4,
 "nbformat_minor": 5
}
