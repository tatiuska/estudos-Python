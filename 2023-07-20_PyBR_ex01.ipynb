{
 "cells": [
  {
   "cell_type": "code",
   "execution_count": 10,
   "id": "1b620da7",
   "metadata": {},
   "outputs": [
    {
     "name": "stdout",
     "output_type": "stream",
     "text": [
      "Informe uma data: 04/06/1980\n",
      "4 de junho de 1980\n"
     ]
    }
   ],
   "source": [
    "# Construa uma função que receba uma data no formato DD/MM/AAAA e devolva uma string no formato D de mesPorExtenso de AAAA. \n",
    "# Opcionalmente, valide a data e retorne NULL caso a data seja inválida.\n",
    "\n",
    "def validacao(data):\n",
    "    data_atualizada = data.split(\"/\")\n",
    "    dia = int(data_atualizada[0])\n",
    "    mes = int(data_atualizada[1])\n",
    "    ano = int(data_atualizada[2])\n",
    "    \n",
    "    meses = ['janeiro', 'fevereiro', 'março', 'abril', 'maio', 'junho', 'julho', 'agosto', 'setembro', 'outubro', 'novembro', 'dezembro']\n",
    "    if dia < 1 and dia > 31:\n",
    "        return null\n",
    "    elif mes < 1 and mes > 12:\n",
    "        return null\n",
    "    elif ano < 0:\n",
    "        return null\n",
    "    else:\n",
    "        return f\"{dia} de {meses[mes-1]} de {ano}\"\n",
    "\n",
    "data = input(\"Informe uma data: \")\n",
    "print(validacao(data))"
   ]
  },
  {
   "cell_type": "code",
   "execution_count": null,
   "id": "7baa0ac8",
   "metadata": {},
   "outputs": [],
   "source": []
  }
 ],
 "metadata": {
  "kernelspec": {
   "display_name": "Python 3 (ipykernel)",
   "language": "python",
   "name": "python3"
  },
  "language_info": {
   "codemirror_mode": {
    "name": "ipython",
    "version": 3
   },
   "file_extension": ".py",
   "mimetype": "text/x-python",
   "name": "python",
   "nbconvert_exporter": "python",
   "pygments_lexer": "ipython3",
   "version": "3.9.13"
  }
 },
 "nbformat": 4,
 "nbformat_minor": 5
}
