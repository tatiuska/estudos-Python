{
 "cells": [
  {
   "cell_type": "code",
   "execution_count": 10,
   "id": "2a1b451e",
   "metadata": {},
   "outputs": [
    {
     "name": "stdout",
     "output_type": "stream",
     "text": [
      "Informe uma data: 04/06/1980\n",
      "4 de junho de 1980\n"
     ]
    }
   ],
   "source": [
    "# Construa uma função que receba uma data no formato DD/MM/AAAA e devolva uma string no formato D de mesPorExtenso de AAAA. \n",
    "# Opcionalmente, valide a data e retorne NULL caso a data seja inválida.\n",
    "\n",
    "def validacao(data):\n",
    "    data_atualizada = data.split(\"/\")\n",
    "    dia = int(data_atualizada[0])\n",
    "    mes = int(data_atualizada[1])\n",
    "    ano = int(data_atualizada[2])\n",
    "    \n",
    "    meses = ['janeiro', 'fevereiro', 'março', 'abril', 'maio', 'junho', 'julho', 'agosto', 'setembro', 'outubro', 'novembro', 'dezembro']\n",
    "    if dia < 1 or dia > 31:\n",
    "        return\n",
    "    elif mes < 1 or mes > 12:\n",
    "        return\n",
    "    elif ano < 0:\n",
    "        return\n",
    "    else:\n",
    "        return f\"{dia} de {meses[mes-1]} de {ano}\"\n",
    "\n",
    "data = input(\"Informe uma data: \")\n",
    "print(validacao(data))"
   ]
  },
  {
   "cell_type": "code",
   "execution_count": 11,
   "id": "a9807acc",
   "metadata": {},
   "outputs": [
    {
     "name": "stdout",
     "output_type": "stream",
     "text": [
      "Informe uma data: 04/06/1980\n",
      "4 de junho de 1980\n"
     ]
    }
   ],
   "source": [
    "# Versão de resolução do exercício acima criando um dicionário.\n",
    "def validacao(data):\n",
    "    data_atualizada = data.split(\"/\")\n",
    "    dia = int(data_atualizada[0])\n",
    "    mes = int(data_atualizada[1])\n",
    "    ano = int(data_atualizada[2])\n",
    "    \n",
    "    meses = {1: 'janeiro', 2: 'fevereiro', 3: 'março', 4: 'abril', 5: 'maio', 6: 'junho', 7: 'julho', 8: 'agosto', 9: 'setembro', 10: 'outubro', 11: 'novembro', 12: 'dezembro'}\n",
    "    if dia < 1 or dia > 31:\n",
    "        return\n",
    "    elif mes < 1 or mes > 12:\n",
    "        return\n",
    "    elif ano < 0:\n",
    "        return\n",
    "    else:\n",
    "        return f\"{dia} de {meses[mes]} de {ano}\"\n",
    "\n",
    "data = input(\"Informe uma data: \")\n",
    "print(validacao(data))"
   ]
  },
  {
   "cell_type": "code",
   "execution_count": null,
   "id": "0a16de2a",
   "metadata": {},
   "outputs": [],
   "source": []
  }
 ],
 "metadata": {
  "kernelspec": {
   "display_name": "Python 3 (ipykernel)",
   "language": "python",
   "name": "python3"
  },
  "language_info": {
   "codemirror_mode": {
    "name": "ipython",
    "version": 3
   },
   "file_extension": ".py",
   "mimetype": "text/x-python",
   "name": "python",
   "nbconvert_exporter": "python",
   "pygments_lexer": "ipython3",
   "version": "3.9.13"
  }
 },
 "nbformat": 4,
 "nbformat_minor": 5
}
